{
  "nbformat": 4,
  "nbformat_minor": 0,
  "metadata": {
    "colab": {
      "name": "Untitled",
      "provenance": [],
      "collapsed_sections": [],
      "include_colab_link": true
    },
    "kernelspec": {
      "name": "python3",
      "display_name": "Python 3"
    },
    "accelerator": "GPU"
  },
  "cells": [
    {
      "cell_type": "markdown",
      "metadata": {
        "id": "view-in-github",
        "colab_type": "text"
      },
      "source": [
        "<a href=\"https://colab.research.google.com/github/vit83/CV_Project_2020/blob/master/BusNNTest.ipynb\" target=\"_parent\"><img src=\"https://colab.research.google.com/assets/colab-badge.svg\" alt=\"Open In Colab\"/></a>"
      ]
    },
    {
      "cell_type": "code",
      "metadata": {
        "id": "hxykjVBeaQke",
        "colab_type": "code",
        "colab": {}
      },
      "source": [
        "from google.colab import drive\n",
        "drive.mount('/content/drive', force_remount=True)\n",
        "!pip install PyQt5\n",
        "root_path = '/content/drive/My Drive/ComputerVision/BusNN'\n",
        "import sys\n",
        "import PyQt5\n",
        "import matplotlib.pyplot as plt\n",
        "\n",
        "sys.path.append(root_path)\n",
        "\n"
      ],
      "execution_count": 0,
      "outputs": []
    },
    {
      "cell_type": "code",
      "metadata": {
        "id": "V7tIT4Yupgsy",
        "colab_type": "code",
        "colab": {}
      },
      "source": [
        "% cd /content/drive/My\\ Drive/ComputerVision/BusNN/CV_Project_2020-master\n",
        "%matplotlib notebook\n",
        "#%matplotlib qt5\n",
        "#!python Main.py -myAnns myAnns.txt -anns annotationsTrain.txt -buses busesTrain -saveDir Results"
      ],
      "execution_count": 0,
      "outputs": []
    },
    {
      "cell_type": "code",
      "metadata": {
        "id": "wuTgT2yNbbnU",
        "colab_type": "code",
        "colab": {}
      },
      "source": [
        "import time\n",
        "from runMe import *\n",
        "from busProjectTest import runTest\n",
        "import sys\n",
        "import os\n",
        "\n",
        "class my_time:\n",
        "\n",
        "    def tic(self):\n",
        "        self.t = time.time()\n",
        "\n",
        "    def toc(self):\n",
        "        self.elapsed = float(time.time()) - float(self.t)\n",
        "        s = \"elapsed time is %0.3f seconds\" % self.elapsed\n",
        "        print(s)\n",
        "        return self.elapsed\n",
        "\n",
        "t = my_time()\n",
        "\n",
        "t.tic()\n",
        "#-myAnns myAnns.txt -anns annotationsTrain.txt -buses busesTrain -saveDir Results\n",
        "\n",
        "myAnnFileName = \"myAnns.txt\"\n",
        "busDir = \"busesTrain\"\n",
        "saveDir = \"Results\"\n",
        "annFileNameGT = \"annotationsTrain.txt\"\n",
        "run(myAnnFileName, busDir)\n",
        "\n",
        "elapsed = t.toc()\n",
        "\n",
        "runTest(annFileNameGT, myAnnFileName, busDir , saveDir, elapsed)\n",
        "\n"
      ],
      "execution_count": 0,
      "outputs": []
    }
  ]
}